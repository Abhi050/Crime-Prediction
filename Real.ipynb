{
  "nbformat": 4,
  "nbformat_minor": 0,
  "metadata": {
    "colab": {
      "name": "Real.ipynb",
      "provenance": [],
      "collapsed_sections": [],
      "include_colab_link": true
    },
    "kernelspec": {
      "name": "python3",
      "display_name": "Python 3"
    }
  },
  "cells": [
    {
      "cell_type": "markdown",
      "metadata": {
        "id": "view-in-github",
        "colab_type": "text"
      },
      "source": [
        "<a href=\"https://colab.research.google.com/github/Abhi050/Crime-Prediction/blob/master/Real.ipynb\" target=\"_parent\"><img src=\"https://colab.research.google.com/assets/colab-badge.svg\" alt=\"Open In Colab\"/></a>"
      ]
    },
    {
      "cell_type": "code",
      "metadata": {
        "id": "7yWX3JI9K_7h",
        "colab_type": "code",
        "colab": {}
      },
      "source": [
        "import pandas as pd\n",
        "import numpy as np\n",
        "import matplotlib.pyplot as plt\n"
      ],
      "execution_count": 0,
      "outputs": []
    },
    {
      "cell_type": "code",
      "metadata": {
        "id": "QwtYgxAULM4_",
        "colab_type": "code",
        "colab": {}
      },
      "source": [
        "fd=pd.read_csv(\"final.csv\")\n",
        "fd.drop(\"Unnamed: 0\",inplace=True,axis=1)"
      ],
      "execution_count": 0,
      "outputs": []
    },
    {
      "cell_type": "code",
      "metadata": {
        "id": "L0-wh-usN1Mw",
        "colab_type": "code",
        "colab": {
          "base_uri": "https://localhost:8080/",
          "height": 189
        },
        "outputId": "fb3e9fc7-273f-400e-f879-d3d93ab760d1"
      },
      "source": [
        "fd.columns"
      ],
      "execution_count": 17,
      "outputs": [
        {
          "output_type": "execute_result",
          "data": {
            "text/plain": [
              "Index(['Unnamed: 0', 'STATE/UT', 'YEAR', 'Pupose',\n",
              "       'Total No. of cases reported', 'Male upto 10 years',\n",
              "       'Female upto 10 years', 'Male 10-15 years', 'Female 10-15 years',\n",
              "       'Male 15-18 years', 'Female 15-18 years', 'Male 18-30 years',\n",
              "       'Female 18-30 years', 'Male 30-50 years', 'Female 30-50 years',\n",
              "       'Male above 50 years', 'Female above 50 years', 'Total Male',\n",
              "       'Total Female', 'Grand Total', 'DG/ ADG', 'IG', 'DIG', 'SSP/SP/ Ad.SP',\n",
              "       'ASP/ DySP', 'Insepctor', 'Sub Inspector', 'Asst. Sub Inspector',\n",
              "       'Head Constable', 'Below HC above Constable', 'Constables', 'TOTAL'],\n",
              "      dtype='object')"
            ]
          },
          "metadata": {
            "tags": []
          },
          "execution_count": 17
        }
      ]
    },
    {
      "cell_type": "code",
      "metadata": {
        "id": "GrtPouy3NwKq",
        "colab_type": "code",
        "colab": {}
      },
      "source": [
        "df=fd.iloc[:,[1,4,20,21,22,23,24,25,26,27,28,29,30,31]]"
      ],
      "execution_count": 0,
      "outputs": []
    },
    {
      "cell_type": "code",
      "metadata": {
        "id": "hStxe-TcLQ4-",
        "colab_type": "code",
        "colab": {}
      },
      "source": [
        "# df[[\"STATE/UT\",'Total No. of cases reported','DG/ ADG', 'IG', 'DIG',\n",
        "#        'SSP/SP/ Ad.SP', 'ASP/ DySP', 'Insepctor', 'Sub Inspector',\n",
        "#        'Asst. Sub Inspector', 'Head Constable', 'Below HC above Constable',\n",
        "#        'Constables']]=fd[[\"STATE/UT\",'Total No. of cases reported','DG/ ADG', 'IG', 'DIG',\n",
        "#        'SSP/SP/ Ad.SP', 'ASP/ DySP', 'Insepctor', 'Sub Inspector',\n",
        "#        'Asst. Sub Inspector', 'Head Constable', 'Below HC above Constable',\n",
        "#        'Constables']]"
      ],
      "execution_count": 0,
      "outputs": []
    },
    {
      "cell_type": "code",
      "metadata": {
        "id": "bpzeu3exLl_V",
        "colab_type": "code",
        "colab": {
          "base_uri": "https://localhost:8080/",
          "height": 303
        },
        "outputId": "110dfbdf-777a-4afa-8c0f-d26c79aeaed7"
      },
      "source": [
        "df.head()"
      ],
      "execution_count": 30,
      "outputs": [
        {
          "output_type": "execute_result",
          "data": {
            "text/html": [
              "<div>\n",
              "<style scoped>\n",
              "    .dataframe tbody tr th:only-of-type {\n",
              "        vertical-align: middle;\n",
              "    }\n",
              "\n",
              "    .dataframe tbody tr th {\n",
              "        vertical-align: top;\n",
              "    }\n",
              "\n",
              "    .dataframe thead th {\n",
              "        text-align: right;\n",
              "    }\n",
              "</style>\n",
              "<table border=\"1\" class=\"dataframe\">\n",
              "  <thead>\n",
              "    <tr style=\"text-align: right;\">\n",
              "      <th></th>\n",
              "      <th>STATE/UT</th>\n",
              "      <th>Total No. of cases reported</th>\n",
              "      <th>DG/ ADG</th>\n",
              "      <th>IG</th>\n",
              "      <th>DIG</th>\n",
              "      <th>SSP/SP/ Ad.SP</th>\n",
              "      <th>ASP/ DySP</th>\n",
              "      <th>Insepctor</th>\n",
              "      <th>Sub Inspector</th>\n",
              "      <th>Asst. Sub Inspector</th>\n",
              "      <th>Head Constable</th>\n",
              "      <th>Below HC above Constable</th>\n",
              "      <th>Constables</th>\n",
              "      <th>TOTAL</th>\n",
              "    </tr>\n",
              "  </thead>\n",
              "  <tbody>\n",
              "    <tr>\n",
              "      <th>0</th>\n",
              "      <td>A&amp;N Islands</td>\n",
              "      <td>0.0</td>\n",
              "      <td>0.0</td>\n",
              "      <td>1.0</td>\n",
              "      <td>2.0</td>\n",
              "      <td>1.0</td>\n",
              "      <td>11.0</td>\n",
              "      <td>31.0</td>\n",
              "      <td>134.0</td>\n",
              "      <td>199.0</td>\n",
              "      <td>437.0</td>\n",
              "      <td>0.0</td>\n",
              "      <td>1976.0</td>\n",
              "      <td>2792.0</td>\n",
              "    </tr>\n",
              "    <tr>\n",
              "      <th>1</th>\n",
              "      <td>A&amp;N Islands</td>\n",
              "      <td>0.0</td>\n",
              "      <td>0.0</td>\n",
              "      <td>1.0</td>\n",
              "      <td>2.0</td>\n",
              "      <td>1.0</td>\n",
              "      <td>11.0</td>\n",
              "      <td>31.0</td>\n",
              "      <td>134.0</td>\n",
              "      <td>199.0</td>\n",
              "      <td>437.0</td>\n",
              "      <td>0.0</td>\n",
              "      <td>1976.0</td>\n",
              "      <td>2792.0</td>\n",
              "    </tr>\n",
              "    <tr>\n",
              "      <th>2</th>\n",
              "      <td>A&amp;N Islands</td>\n",
              "      <td>0.0</td>\n",
              "      <td>0.0</td>\n",
              "      <td>1.0</td>\n",
              "      <td>2.0</td>\n",
              "      <td>1.0</td>\n",
              "      <td>11.0</td>\n",
              "      <td>31.0</td>\n",
              "      <td>134.0</td>\n",
              "      <td>199.0</td>\n",
              "      <td>437.0</td>\n",
              "      <td>0.0</td>\n",
              "      <td>1976.0</td>\n",
              "      <td>2792.0</td>\n",
              "    </tr>\n",
              "    <tr>\n",
              "      <th>3</th>\n",
              "      <td>A&amp;N Islands</td>\n",
              "      <td>0.0</td>\n",
              "      <td>0.0</td>\n",
              "      <td>1.0</td>\n",
              "      <td>2.0</td>\n",
              "      <td>1.0</td>\n",
              "      <td>11.0</td>\n",
              "      <td>31.0</td>\n",
              "      <td>134.0</td>\n",
              "      <td>199.0</td>\n",
              "      <td>437.0</td>\n",
              "      <td>0.0</td>\n",
              "      <td>1976.0</td>\n",
              "      <td>2792.0</td>\n",
              "    </tr>\n",
              "    <tr>\n",
              "      <th>4</th>\n",
              "      <td>A&amp;N Islands</td>\n",
              "      <td>0.0</td>\n",
              "      <td>0.0</td>\n",
              "      <td>1.0</td>\n",
              "      <td>2.0</td>\n",
              "      <td>1.0</td>\n",
              "      <td>11.0</td>\n",
              "      <td>31.0</td>\n",
              "      <td>134.0</td>\n",
              "      <td>199.0</td>\n",
              "      <td>437.0</td>\n",
              "      <td>0.0</td>\n",
              "      <td>1976.0</td>\n",
              "      <td>2792.0</td>\n",
              "    </tr>\n",
              "  </tbody>\n",
              "</table>\n",
              "</div>"
            ],
            "text/plain": [
              "      STATE/UT  Total No. of cases reported  ...  Constables   TOTAL\n",
              "0  A&N Islands                          0.0  ...      1976.0  2792.0\n",
              "1  A&N Islands                          0.0  ...      1976.0  2792.0\n",
              "2  A&N Islands                          0.0  ...      1976.0  2792.0\n",
              "3  A&N Islands                          0.0  ...      1976.0  2792.0\n",
              "4  A&N Islands                          0.0  ...      1976.0  2792.0\n",
              "\n",
              "[5 rows x 14 columns]"
            ]
          },
          "metadata": {
            "tags": []
          },
          "execution_count": 30
        }
      ]
    },
    {
      "cell_type": "code",
      "metadata": {
        "id": "NKwepozbMFOr",
        "colab_type": "code",
        "colab": {
          "base_uri": "https://localhost:8080/",
          "height": 103
        },
        "outputId": "68f2bf9f-6694-4c7c-bee7-a93684dd0bcc"
      },
      "source": [
        "\n",
        "df.columns"
      ],
      "execution_count": 31,
      "outputs": [
        {
          "output_type": "execute_result",
          "data": {
            "text/plain": [
              "Index(['STATE/UT', 'Total No. of cases reported', 'DG/ ADG', 'IG', 'DIG',\n",
              "       'SSP/SP/ Ad.SP', 'ASP/ DySP', 'Insepctor', 'Sub Inspector',\n",
              "       'Asst. Sub Inspector', 'Head Constable', 'Below HC above Constable',\n",
              "       'Constables', 'TOTAL'],\n",
              "      dtype='object')"
            ]
          },
          "metadata": {
            "tags": []
          },
          "execution_count": 31
        }
      ]
    },
    {
      "cell_type": "code",
      "metadata": {
        "id": "jzh7E_rEM50e",
        "colab_type": "code",
        "colab": {
          "base_uri": "https://localhost:8080/",
          "height": 103
        },
        "outputId": "10431635-dc7e-4f69-e492-e32822895f77"
      },
      "source": [
        "df.drop_duplicates(keep=\"first\",inplace=True)"
      ],
      "execution_count": 5,
      "outputs": [
        {
          "output_type": "stream",
          "text": [
            "/usr/local/lib/python3.6/dist-packages/ipykernel_launcher.py:1: SettingWithCopyWarning: \n",
            "A value is trying to be set on a copy of a slice from a DataFrame\n",
            "\n",
            "See the caveats in the documentation: http://pandas.pydata.org/pandas-docs/stable/indexing.html#indexing-view-versus-copy\n",
            "  \"\"\"Entry point for launching an IPython kernel.\n"
          ],
          "name": "stderr"
        }
      ]
    },
    {
      "cell_type": "code",
      "metadata": {
        "id": "rkgxoMOGPFCM",
        "colab_type": "code",
        "colab": {
          "base_uri": "https://localhost:8080/",
          "height": 303
        },
        "outputId": "1e783edf-e498-4890-b385-22ff677706f9"
      },
      "source": [
        "df.head()"
      ],
      "execution_count": 33,
      "outputs": [
        {
          "output_type": "execute_result",
          "data": {
            "text/html": [
              "<div>\n",
              "<style scoped>\n",
              "    .dataframe tbody tr th:only-of-type {\n",
              "        vertical-align: middle;\n",
              "    }\n",
              "\n",
              "    .dataframe tbody tr th {\n",
              "        vertical-align: top;\n",
              "    }\n",
              "\n",
              "    .dataframe thead th {\n",
              "        text-align: right;\n",
              "    }\n",
              "</style>\n",
              "<table border=\"1\" class=\"dataframe\">\n",
              "  <thead>\n",
              "    <tr style=\"text-align: right;\">\n",
              "      <th></th>\n",
              "      <th>STATE/UT</th>\n",
              "      <th>Total No. of cases reported</th>\n",
              "      <th>DG/ ADG</th>\n",
              "      <th>IG</th>\n",
              "      <th>DIG</th>\n",
              "      <th>SSP/SP/ Ad.SP</th>\n",
              "      <th>ASP/ DySP</th>\n",
              "      <th>Insepctor</th>\n",
              "      <th>Sub Inspector</th>\n",
              "      <th>Asst. Sub Inspector</th>\n",
              "      <th>Head Constable</th>\n",
              "      <th>Below HC above Constable</th>\n",
              "      <th>Constables</th>\n",
              "      <th>TOTAL</th>\n",
              "    </tr>\n",
              "  </thead>\n",
              "  <tbody>\n",
              "    <tr>\n",
              "      <th>0</th>\n",
              "      <td>A&amp;N Islands</td>\n",
              "      <td>0.0</td>\n",
              "      <td>0.0</td>\n",
              "      <td>1.0</td>\n",
              "      <td>2.0</td>\n",
              "      <td>1.0</td>\n",
              "      <td>11.0</td>\n",
              "      <td>31.0</td>\n",
              "      <td>134.0</td>\n",
              "      <td>199.0</td>\n",
              "      <td>437.0</td>\n",
              "      <td>0.0</td>\n",
              "      <td>1976.0</td>\n",
              "      <td>2792.0</td>\n",
              "    </tr>\n",
              "    <tr>\n",
              "      <th>10</th>\n",
              "      <td>A&amp;N Islands</td>\n",
              "      <td>2.0</td>\n",
              "      <td>0.0</td>\n",
              "      <td>1.0</td>\n",
              "      <td>2.0</td>\n",
              "      <td>1.0</td>\n",
              "      <td>11.0</td>\n",
              "      <td>31.0</td>\n",
              "      <td>134.0</td>\n",
              "      <td>199.0</td>\n",
              "      <td>437.0</td>\n",
              "      <td>0.0</td>\n",
              "      <td>1976.0</td>\n",
              "      <td>2792.0</td>\n",
              "    </tr>\n",
              "    <tr>\n",
              "      <th>14</th>\n",
              "      <td>A&amp;N Islands</td>\n",
              "      <td>0.0</td>\n",
              "      <td>0.0</td>\n",
              "      <td>1.0</td>\n",
              "      <td>1.0</td>\n",
              "      <td>2.0</td>\n",
              "      <td>15.0</td>\n",
              "      <td>35.0</td>\n",
              "      <td>125.0</td>\n",
              "      <td>200.0</td>\n",
              "      <td>473.0</td>\n",
              "      <td>0.0</td>\n",
              "      <td>2120.0</td>\n",
              "      <td>2972.0</td>\n",
              "    </tr>\n",
              "    <tr>\n",
              "      <th>24</th>\n",
              "      <td>A&amp;N Islands</td>\n",
              "      <td>1.0</td>\n",
              "      <td>0.0</td>\n",
              "      <td>1.0</td>\n",
              "      <td>1.0</td>\n",
              "      <td>2.0</td>\n",
              "      <td>15.0</td>\n",
              "      <td>35.0</td>\n",
              "      <td>125.0</td>\n",
              "      <td>200.0</td>\n",
              "      <td>473.0</td>\n",
              "      <td>0.0</td>\n",
              "      <td>2120.0</td>\n",
              "      <td>2972.0</td>\n",
              "    </tr>\n",
              "    <tr>\n",
              "      <th>27</th>\n",
              "      <td>A&amp;N Islands</td>\n",
              "      <td>2.0</td>\n",
              "      <td>0.0</td>\n",
              "      <td>1.0</td>\n",
              "      <td>1.0</td>\n",
              "      <td>2.0</td>\n",
              "      <td>15.0</td>\n",
              "      <td>35.0</td>\n",
              "      <td>125.0</td>\n",
              "      <td>200.0</td>\n",
              "      <td>473.0</td>\n",
              "      <td>0.0</td>\n",
              "      <td>2120.0</td>\n",
              "      <td>2972.0</td>\n",
              "    </tr>\n",
              "  </tbody>\n",
              "</table>\n",
              "</div>"
            ],
            "text/plain": [
              "       STATE/UT  Total No. of cases reported  ...  Constables   TOTAL\n",
              "0   A&N Islands                          0.0  ...      1976.0  2792.0\n",
              "10  A&N Islands                          2.0  ...      1976.0  2792.0\n",
              "14  A&N Islands                          0.0  ...      2120.0  2972.0\n",
              "24  A&N Islands                          1.0  ...      2120.0  2972.0\n",
              "27  A&N Islands                          2.0  ...      2120.0  2972.0\n",
              "\n",
              "[5 rows x 14 columns]"
            ]
          },
          "metadata": {
            "tags": []
          },
          "execution_count": 33
        }
      ]
    },
    {
      "cell_type": "code",
      "metadata": {
        "id": "iTpBg6srPNTP",
        "colab_type": "code",
        "colab": {
          "base_uri": "https://localhost:8080/",
          "height": 200
        },
        "outputId": "08c8301f-8906-4954-b2d1-8f0b4488e43c"
      },
      "source": [
        "from sklearn import preprocessing\n",
        "le = preprocessing.LabelEncoder()\n",
        "df[\"STATE/UT\"]=le.fit_transform(df[\"STATE/UT\"])"
      ],
      "execution_count": 26,
      "outputs": [
        {
          "output_type": "error",
          "ename": "NameError",
          "evalue": "ignored",
          "traceback": [
            "\u001b[0;31m---------------------------------------------------------------------------\u001b[0m",
            "\u001b[0;31mNameError\u001b[0m                                 Traceback (most recent call last)",
            "\u001b[0;32m<ipython-input-26-d12383701be7>\u001b[0m in \u001b[0;36m<module>\u001b[0;34m()\u001b[0m\n\u001b[1;32m      1\u001b[0m \u001b[0;32mfrom\u001b[0m \u001b[0msklearn\u001b[0m \u001b[0;32mimport\u001b[0m \u001b[0mpreprocessing\u001b[0m\u001b[0;34m\u001b[0m\u001b[0;34m\u001b[0m\u001b[0m\n\u001b[1;32m      2\u001b[0m \u001b[0mle\u001b[0m \u001b[0;34m=\u001b[0m \u001b[0mpreprocessing\u001b[0m\u001b[0;34m.\u001b[0m\u001b[0mLabelEncoder\u001b[0m\u001b[0;34m(\u001b[0m\u001b[0;34m)\u001b[0m\u001b[0;34m\u001b[0m\u001b[0;34m\u001b[0m\u001b[0m\n\u001b[0;32m----> 3\u001b[0;31m \u001b[0mdf\u001b[0m\u001b[0;34m[\u001b[0m\u001b[0;34m\"STATE/UT\"\u001b[0m\u001b[0;34m]\u001b[0m\u001b[0;34m=\u001b[0m\u001b[0mle\u001b[0m\u001b[0;34m.\u001b[0m\u001b[0mfit_transform\u001b[0m\u001b[0;34m(\u001b[0m\u001b[0mdf\u001b[0m\u001b[0;34m[\u001b[0m\u001b[0;34m\"STATE/UT\"\u001b[0m\u001b[0;34m]\u001b[0m\u001b[0;34m)\u001b[0m\u001b[0;34m\u001b[0m\u001b[0;34m\u001b[0m\u001b[0m\n\u001b[0m",
            "\u001b[0;31mNameError\u001b[0m: name 'df' is not defined"
          ]
        }
      ]
    },
    {
      "cell_type": "code",
      "metadata": {
        "id": "2-gJlzh5PSwF",
        "colab_type": "code",
        "colab": {
          "base_uri": "https://localhost:8080/",
          "height": 361
        },
        "outputId": "61dfcb3f-13d5-440d-d19a-d53665051c43"
      },
      "source": [
        "\n",
        "df.fillna(0,inplace = True)\n",
        "df.isnull().sum()"
      ],
      "execution_count": 8,
      "outputs": [
        {
          "output_type": "stream",
          "text": [
            "/usr/local/lib/python3.6/dist-packages/pandas/core/frame.py:4034: SettingWithCopyWarning: \n",
            "A value is trying to be set on a copy of a slice from a DataFrame\n",
            "\n",
            "See the caveats in the documentation: http://pandas.pydata.org/pandas-docs/stable/indexing.html#indexing-view-versus-copy\n",
            "  downcast=downcast, **kwargs)\n"
          ],
          "name": "stderr"
        },
        {
          "output_type": "execute_result",
          "data": {
            "text/plain": [
              "STATE/UT                       0\n",
              "Total No. of cases reported    0\n",
              "DG/ ADG                        0\n",
              "IG                             0\n",
              "DIG                            0\n",
              "SSP/SP/ Ad.SP                  0\n",
              "ASP/ DySP                      0\n",
              "Insepctor                      0\n",
              "Sub Inspector                  0\n",
              "Asst. Sub Inspector            0\n",
              "Head Constable                 0\n",
              "Below HC above Constable       0\n",
              "Constables                     0\n",
              "TOTAL                          0\n",
              "dtype: int64"
            ]
          },
          "metadata": {
            "tags": []
          },
          "execution_count": 8
        }
      ]
    },
    {
      "cell_type": "code",
      "metadata": {
        "id": "XoT-2k8iPXf2",
        "colab_type": "code",
        "colab": {
          "base_uri": "https://localhost:8080/",
          "height": 120
        },
        "outputId": "49832bf6-9cec-483f-c727-af8cfe401b40"
      },
      "source": [
        "for i in df.columns:\n",
        "  df[i] = df[i].astype(\"int\")"
      ],
      "execution_count": 9,
      "outputs": [
        {
          "output_type": "stream",
          "text": [
            "/usr/local/lib/python3.6/dist-packages/ipykernel_launcher.py:2: SettingWithCopyWarning: \n",
            "A value is trying to be set on a copy of a slice from a DataFrame.\n",
            "Try using .loc[row_indexer,col_indexer] = value instead\n",
            "\n",
            "See the caveats in the documentation: http://pandas.pydata.org/pandas-docs/stable/indexing.html#indexing-view-versus-copy\n",
            "  \n"
          ],
          "name": "stderr"
        }
      ]
    },
    {
      "cell_type": "code",
      "metadata": {
        "id": "obEVT3H8QLEY",
        "colab_type": "code",
        "colab": {
          "base_uri": "https://localhost:8080/",
          "height": 103
        },
        "outputId": "f4ffd2d2-0177-429d-9dcf-69b6c6512fc7"
      },
      "source": [
        "df.columns"
      ],
      "execution_count": 38,
      "outputs": [
        {
          "output_type": "execute_result",
          "data": {
            "text/plain": [
              "Index(['STATE/UT', 'Total No. of cases reported', 'DG/ ADG', 'IG', 'DIG',\n",
              "       'SSP/SP/ Ad.SP', 'ASP/ DySP', 'Insepctor', 'Sub Inspector',\n",
              "       'Asst. Sub Inspector', 'Head Constable', 'Below HC above Constable',\n",
              "       'Constables', 'TOTAL'],\n",
              "      dtype='object')"
            ]
          },
          "metadata": {
            "tags": []
          },
          "execution_count": 38
        }
      ]
    },
    {
      "cell_type": "code",
      "metadata": {
        "id": "8MTe564FPrIk",
        "colab_type": "code",
        "colab": {}
      },
      "source": [
        "x=df.iloc[:,[0,1]]\n",
        "y=df[\"TOTAL\"]"
      ],
      "execution_count": 0,
      "outputs": []
    },
    {
      "cell_type": "code",
      "metadata": {
        "id": "icH7ZIdIPd3N",
        "colab_type": "code",
        "colab": {}
      },
      "source": [
        "from sklearn.model_selection import train_test_split\n",
        "xTrain, xTest, yTrain, yTest = train_test_split(x, y, test_size = 0.2, random_state = 0)"
      ],
      "execution_count": 0,
      "outputs": []
    },
    {
      "cell_type": "code",
      "metadata": {
        "id": "jglSSkHsPnh2",
        "colab_type": "code",
        "colab": {}
      },
      "source": [
        "# from sklearn.preprocessing import StandardScaler\n",
        "# sc = StandardScaler()\n",
        "# xTrain = sc.fit_transform(xTrain)\n",
        "# xTest = sc.transform (xTest)"
      ],
      "execution_count": 0,
      "outputs": []
    },
    {
      "cell_type": "code",
      "metadata": {
        "id": "RFCQD24NQUS_",
        "colab_type": "code",
        "colab": {
          "base_uri": "https://localhost:8080/",
          "height": 34
        },
        "outputId": "501e0469-ebe5-4e05-cd8e-6efe1f661e8d"
      },
      "source": [
        "from sklearn.linear_model import ElasticNet\n",
        "from sklearn.metrics import mean_squared_error\n",
        "from sklearn.decomposition import PCA\n",
        "from sklearn.model_selection import train_test_split\n",
        "from sklearn.preprocessing import StandardScaler\n",
        "import xgboost as xgb\n",
        "from sklearn.metrics import mean_squared_error\n",
        "sc = StandardScaler()\n",
        "a=[]\n",
        "for i in range(2,25,1):\n",
        "  \n",
        "  pca = PCA(n_components=i)\n",
        "  x1=pca.fit_transform(x)\n",
        "  \n",
        "  xTrain, xTest, yTrain, yTest = train_test_split(x1, y, test_size = 0.2, random_state = 0)\n",
        "  \n",
        "\n",
        "  xTrain = sc.fit_transform(xTrain)\n",
        "  xTest = sc.transform (xTest)\n",
        "  \n",
        "  data_dmatrix = xgb.DMatrix(data=x,label=y)\n",
        "  xg_reg = xgb.XGBRegressor(objective ='reg:linear', colsample_bytree = 0.3, learning_rate = 0.1,\n",
        "                max_depth = 5, alpha = 10, n_estimators = 10)\n",
        "  xg_reg.fit(xTrain,yTrain)\n",
        "\n",
        "  preds = xg_reg.predict(xTest)\n",
        "  rmse = np.sqrt(mean_squared_error(yTest, preds))\n",
        "  a.append(rmse)\n",
        "\n",
        "from sklearn.svm import SVR\n",
        "\n",
        "x=df.iloc[:,[1]]\n",
        "y=df[\"TOTAL\"]\n",
        "\n",
        "\n",
        "from sklearn.model_selection import train_test_split\n",
        "xTrain, xTest, yTrain, yTest = train_test_split(x, y, test_size = 0.2, random_state = 0)\n",
        "\n",
        "\n",
        "svr_rbf = SVR(kernel= 'rbf', C= 1e3, gamma= 0.1) # defining the support vector regression models\n",
        "svr_lin = SVR(kernel= 'linear', C= 1e3)\n",
        "svr_poly = SVR(kernel= 'poly', C= 1e3, degree= 2)\n",
        "svr_rbf.fit(xTrain,yTrain) # fitting the data points in the models\n",
        "svr_lin.fit(xTrain,yTrain)\n",
        "svr_poly.fit(xTrain,yTrain)\n",
        "\n",
        "p1=svr_rbf.predict(xTest)\n",
        "p2=svr_lin.predict(xTest)\n",
        "p3=svr_poly.predict(xTest)\n",
        "\n",
        "rmse1 = np.sqrt(mean_squared_error(yTest,p1))\n",
        "r21 = r2_score(yTest,p1)\n",
        "print(rmse1)\n",
        "print(r21)\n",
        "\n",
        "# rmse2 = np.sqrt(mean_squared_error(yTest,p2))\n",
        "# r22 = r2_score(yTest,p2)\n",
        "# print(rmse2)\n",
        "# print(r22)\n",
        "\n",
        "# rmse3 = np.sqrt(mean_squared_error(yTest,p3))\n",
        "# r23 = r2_score(yTest,p3)\n",
        "# print(rmse3)\n",
        "# print(r23)\n",
        "\n",
        "\n",
        "en=ElasticNet(alpha=0.1,l1_ratio=0.5)\n",
        "en.fit(xTrain,yTrain)\n",
        "ypred=en.predict(xTest)\n",
        "ypred\n",
        "\n",
        "#en.score(yTest.flatten(),ypred)\n",
        "rmse = np.sqrt(mean_squared_error(yTest, ypred))\n",
        "rmse"
      ],
      "execution_count": 12,
      "outputs": [
        {
          "output_type": "execute_result",
          "data": {
            "text/plain": [
              "39436.73840882609"
            ]
          },
          "metadata": {
            "tags": []
          },
          "execution_count": 12
        }
      ]
    },
    {
      "cell_type": "code",
      "metadata": {
        "id": "FvhDuHKOZKDw",
        "colab_type": "code",
        "colab": {
          "base_uri": "https://localhost:8080/",
          "height": 34
        },
        "outputId": "8951406f-be27-4a45-eabf-722ff6c1f1ea"
      },
      "source": [
        "a=en.predict([[3,2239]])\n",
        "a"
      ],
      "execution_count": 14,
      "outputs": [
        {
          "output_type": "execute_result",
          "data": {
            "text/plain": [
              "array([71242.52700696])"
            ]
          },
          "metadata": {
            "tags": []
          },
          "execution_count": 14
        }
      ]
    },
    {
      "cell_type": "code",
      "metadata": {
        "id": "C7FlS94RQgHx",
        "colab_type": "code",
        "colab": {
          "base_uri": "https://localhost:8080/",
          "height": 69
        },
        "outputId": "c32fe5dd-6ab2-4aa5-8d45-50cbd009dca2"
      },
      "source": [
        "x=df.iloc[:,[1]]\n",
        "y=df[\"TOTAL\"]\n",
        "\n",
        "\n",
        "\n",
        "from sklearn.model_selection import train_test_split\n",
        "xTrain, xTest, yTrain, yTest = train_test_split(x, y, test_size = 0.2, random_state = 0)\n",
        "\n",
        "# from sklearn.preprocessing import StandardScaler\n",
        "# sc = StandardScaler()\n",
        "# xtrain = sc.fit_transform(xTrain)\n",
        "# yTrain = sc.transform (yTrain)\n",
        "\n",
        "from sklearn.linear_model import LinearRegression\n",
        "from sklearn import metrics\n",
        "\n",
        "reg=LinearRegression()\n",
        "reg.fit(xTrain,yTrain)\n",
        "ypred=reg.predict(xTest)\n",
        "\n",
        "print('Mean Absolute Error:', metrics.mean_absolute_error(yTest, ypred))  \n",
        "print('Mean Squared Error:', metrics.mean_squared_error(yTest, ypred))  \n",
        "print('Root Mean Squared Error:', np.sqrt(metrics.mean_squared_error(yTest, ypred)))\n"
      ],
      "execution_count": 53,
      "outputs": [
        {
          "output_type": "stream",
          "text": [
            "Mean Absolute Error: 31502.145181145737\n",
            "Mean Squared Error: 1680641067.2938545\n",
            "Root Mean Squared Error: 40995.62253819125\n"
          ],
          "name": "stdout"
        }
      ]
    },
    {
      "cell_type": "code",
      "metadata": {
        "id": "cfTD9utgRCYb",
        "colab_type": "code",
        "colab": {
          "base_uri": "https://localhost:8080/",
          "height": 51
        },
        "outputId": "d2cd4d87-3c45-485b-f3b1-c981326053b8"
      },
      "source": [
        "from sklearn.preprocessing import PolynomialFeatures\n",
        "from sklearn.linear_model import LinearRegression\n",
        "from sklearn.metrics import mean_squared_error, r2_score\n",
        "\n",
        "x=df.iloc[:,[0,1]]\n",
        "y=df[\"TOTAL\"]\n",
        "\n",
        "\n",
        "\n",
        "polynomial_features= PolynomialFeatures(degree=2)\n",
        "x_poly = polynomial_features.fit_transform(x)\n",
        "\n",
        "model = LinearRegression()\n",
        "model.fit(x_poly, y)\n",
        "ypred = model.predict(x_poly)\n",
        "\n",
        "rmse = np.sqrt(mean_squared_error(y,ypred))\n",
        "r2 = r2_score(y,ypred)\n",
        "print(rmse)\n",
        "print(r2)"
      ],
      "execution_count": 54,
      "outputs": [
        {
          "output_type": "stream",
          "text": [
            "39937.89460616391\n",
            "0.13479229314501884\n"
          ],
          "name": "stdout"
        }
      ]
    },
    {
      "cell_type": "code",
      "metadata": {
        "id": "W4DseirwTeGY",
        "colab_type": "code",
        "colab": {
          "base_uri": "https://localhost:8080/",
          "height": 234
        },
        "outputId": "32e2a158-b813-4805-cf90-0ead1006c7b1"
      },
      "source": [
        "from sklearn.svm import SVR\n",
        "\n",
        "x=df.iloc[:,[1]]\n",
        "y=df[\"TOTAL\"]\n",
        "\n",
        "\n",
        "from sklearn.model_selection import train_test_split\n",
        "xTrain, xTest, yTrain, yTest = train_test_split(x, y, test_size = 0.2, random_state = 0)\n",
        "\n",
        "\n",
        "svr_rbf = SVR(kernel= 'rbf', C= 1e3, gamma= 0.1) # defining the support vector regression models\n",
        "svr_lin = SVR(kernel= 'linear', C= 1e3)\n",
        "svr_poly = SVR(kernel= 'poly', C= 1e3, degree= 2)\n",
        "svr_rbf.fit(xTrain,yTrain) # fitting the data points in the models\n",
        "svr_lin.fit(xTrain,yTrain)\n",
        "svr_poly.fit(xTrain,yTrain)\n",
        "\n",
        "p1=svr_rbf.predict(xTest)\n",
        "p2=svr_lin.predict(xTest)\n",
        "p3=svr_poly.predict(xTest)\n",
        "\n",
        "rmse1 = np.sqrt(mean_squared_error(yTest,p1))\n",
        "r21 = r2_score(yTest,p1)\n",
        "print(rmse1)\n",
        "print(r21)\n",
        "\n",
        "# rmse2 = np.sqrt(mean_squared_error(yTest,p2))\n",
        "# r22 = r2_score(yTest,p2)\n",
        "# print(rmse2)\n",
        "# print(r22)\n",
        "\n",
        "# rmse3 = np.sqrt(mean_squared_error(yTest,p3))\n",
        "# r23 = r2_score(yTest,p3)\n",
        "# print(rmse3)\n",
        "# print(r23)"
      ],
      "execution_count": 1,
      "outputs": [
        {
          "output_type": "error",
          "ename": "NameError",
          "evalue": "ignored",
          "traceback": [
            "\u001b[0;31m---------------------------------------------------------------------------\u001b[0m",
            "\u001b[0;31mNameError\u001b[0m                                 Traceback (most recent call last)",
            "\u001b[0;32m<ipython-input-1-bfd126dbe26d>\u001b[0m in \u001b[0;36m<module>\u001b[0;34m()\u001b[0m\n\u001b[1;32m      1\u001b[0m \u001b[0;32mfrom\u001b[0m \u001b[0msklearn\u001b[0m\u001b[0;34m.\u001b[0m\u001b[0msvm\u001b[0m \u001b[0;32mimport\u001b[0m \u001b[0mSVR\u001b[0m\u001b[0;34m\u001b[0m\u001b[0;34m\u001b[0m\u001b[0m\n\u001b[1;32m      2\u001b[0m \u001b[0;34m\u001b[0m\u001b[0m\n\u001b[0;32m----> 3\u001b[0;31m \u001b[0mx\u001b[0m\u001b[0;34m=\u001b[0m\u001b[0mdf\u001b[0m\u001b[0;34m.\u001b[0m\u001b[0miloc\u001b[0m\u001b[0;34m[\u001b[0m\u001b[0;34m:\u001b[0m\u001b[0;34m,\u001b[0m\u001b[0;34m[\u001b[0m\u001b[0;36m1\u001b[0m\u001b[0;34m]\u001b[0m\u001b[0;34m]\u001b[0m\u001b[0;34m\u001b[0m\u001b[0;34m\u001b[0m\u001b[0m\n\u001b[0m\u001b[1;32m      4\u001b[0m \u001b[0my\u001b[0m\u001b[0;34m=\u001b[0m\u001b[0mdf\u001b[0m\u001b[0;34m[\u001b[0m\u001b[0;34m\"TOTAL\"\u001b[0m\u001b[0;34m]\u001b[0m\u001b[0;34m\u001b[0m\u001b[0;34m\u001b[0m\u001b[0m\n\u001b[1;32m      5\u001b[0m \u001b[0;34m\u001b[0m\u001b[0m\n",
            "\u001b[0;31mNameError\u001b[0m: name 'df' is not defined"
          ]
        }
      ]
    },
    {
      "cell_type": "code",
      "metadata": {
        "id": "-dZPNm-J22zs",
        "colab_type": "code",
        "colab": {
          "base_uri": "https://localhost:8080/",
          "height": 1000
        },
        "outputId": "32172319-d075-4611-cd3b-2675a21cdd16"
      },
      "source": [
        "df1=fd.iloc[:,[0,1,3]]\n",
        "df1.reset_index()\n",
        "#df1.drop_duplicates(keep=\"last\",inplace=True)\n",
        "\n",
        "\n",
        "c=0\n",
        "for i in df1.index:\n",
        "  if df1[\"YEAR\"][i] in range(2001,2014):\n",
        "    c+=1\n",
        "  if c<=13:\n",
        "    df1.at[i,\"YEAR\"]= 0\n",
        "  else:\n",
        "    c=0\n",
        "df1 = df1[df1.YEAR != 0]\n",
        "df1"
      ],
      "execution_count": 23,
      "outputs": [
        {
          "output_type": "execute_result",
          "data": {
            "text/html": [
              "<div>\n",
              "<style scoped>\n",
              "    .dataframe tbody tr th:only-of-type {\n",
              "        vertical-align: middle;\n",
              "    }\n",
              "\n",
              "    .dataframe tbody tr th {\n",
              "        vertical-align: top;\n",
              "    }\n",
              "\n",
              "    .dataframe thead th {\n",
              "        text-align: right;\n",
              "    }\n",
              "</style>\n",
              "<table border=\"1\" class=\"dataframe\">\n",
              "  <thead>\n",
              "    <tr style=\"text-align: right;\">\n",
              "      <th></th>\n",
              "      <th>STATE/UT</th>\n",
              "      <th>YEAR</th>\n",
              "      <th>Total No. of cases reported</th>\n",
              "    </tr>\n",
              "  </thead>\n",
              "  <tbody>\n",
              "    <tr>\n",
              "      <th>13</th>\n",
              "      <td>A&amp;N Islands</td>\n",
              "      <td>2001</td>\n",
              "      <td>2.0</td>\n",
              "    </tr>\n",
              "    <tr>\n",
              "      <th>27</th>\n",
              "      <td>A&amp;N Islands</td>\n",
              "      <td>2002</td>\n",
              "      <td>2.0</td>\n",
              "    </tr>\n",
              "    <tr>\n",
              "      <th>41</th>\n",
              "      <td>A&amp;N Islands</td>\n",
              "      <td>2003</td>\n",
              "      <td>2.0</td>\n",
              "    </tr>\n",
              "    <tr>\n",
              "      <th>55</th>\n",
              "      <td>A&amp;N Islands</td>\n",
              "      <td>2004</td>\n",
              "      <td>3.0</td>\n",
              "    </tr>\n",
              "    <tr>\n",
              "      <th>69</th>\n",
              "      <td>A&amp;N Islands</td>\n",
              "      <td>2005</td>\n",
              "      <td>2.0</td>\n",
              "    </tr>\n",
              "    <tr>\n",
              "      <th>83</th>\n",
              "      <td>A&amp;N Islands</td>\n",
              "      <td>2006</td>\n",
              "      <td>5.0</td>\n",
              "    </tr>\n",
              "    <tr>\n",
              "      <th>97</th>\n",
              "      <td>A&amp;N Islands</td>\n",
              "      <td>2007</td>\n",
              "      <td>12.0</td>\n",
              "    </tr>\n",
              "    <tr>\n",
              "      <th>111</th>\n",
              "      <td>A&amp;N Islands</td>\n",
              "      <td>2008</td>\n",
              "      <td>17.0</td>\n",
              "    </tr>\n",
              "    <tr>\n",
              "      <th>125</th>\n",
              "      <td>A&amp;N Islands</td>\n",
              "      <td>2009</td>\n",
              "      <td>16.0</td>\n",
              "    </tr>\n",
              "    <tr>\n",
              "      <th>139</th>\n",
              "      <td>A&amp;N Islands</td>\n",
              "      <td>2010</td>\n",
              "      <td>10.0</td>\n",
              "    </tr>\n",
              "    <tr>\n",
              "      <th>153</th>\n",
              "      <td>A&amp;N Islands</td>\n",
              "      <td>2011</td>\n",
              "      <td>15.0</td>\n",
              "    </tr>\n",
              "    <tr>\n",
              "      <th>167</th>\n",
              "      <td>A&amp;N Islands</td>\n",
              "      <td>2012</td>\n",
              "      <td>8.0</td>\n",
              "    </tr>\n",
              "    <tr>\n",
              "      <th>181</th>\n",
              "      <td>A&amp;N Islands</td>\n",
              "      <td>2013</td>\n",
              "      <td>14.0</td>\n",
              "    </tr>\n",
              "    <tr>\n",
              "      <th>195</th>\n",
              "      <td>Andhra Pradesh</td>\n",
              "      <td>2001</td>\n",
              "      <td>1182.0</td>\n",
              "    </tr>\n",
              "    <tr>\n",
              "      <th>209</th>\n",
              "      <td>Andhra Pradesh</td>\n",
              "      <td>2002</td>\n",
              "      <td>1302.0</td>\n",
              "    </tr>\n",
              "    <tr>\n",
              "      <th>223</th>\n",
              "      <td>Andhra Pradesh</td>\n",
              "      <td>2003</td>\n",
              "      <td>1485.0</td>\n",
              "    </tr>\n",
              "    <tr>\n",
              "      <th>237</th>\n",
              "      <td>Andhra Pradesh</td>\n",
              "      <td>2004</td>\n",
              "      <td>1526.0</td>\n",
              "    </tr>\n",
              "    <tr>\n",
              "      <th>251</th>\n",
              "      <td>Andhra Pradesh</td>\n",
              "      <td>2005</td>\n",
              "      <td>1612.0</td>\n",
              "    </tr>\n",
              "    <tr>\n",
              "      <th>265</th>\n",
              "      <td>Andhra Pradesh</td>\n",
              "      <td>2006</td>\n",
              "      <td>2030.0</td>\n",
              "    </tr>\n",
              "    <tr>\n",
              "      <th>279</th>\n",
              "      <td>Andhra Pradesh</td>\n",
              "      <td>2007</td>\n",
              "      <td>2097.0</td>\n",
              "    </tr>\n",
              "    <tr>\n",
              "      <th>293</th>\n",
              "      <td>Andhra Pradesh</td>\n",
              "      <td>2008</td>\n",
              "      <td>1970.0</td>\n",
              "    </tr>\n",
              "    <tr>\n",
              "      <th>307</th>\n",
              "      <td>Andhra Pradesh</td>\n",
              "      <td>2009</td>\n",
              "      <td>1958.0</td>\n",
              "    </tr>\n",
              "    <tr>\n",
              "      <th>321</th>\n",
              "      <td>Andhra Pradesh</td>\n",
              "      <td>2010</td>\n",
              "      <td>2053.0</td>\n",
              "    </tr>\n",
              "    <tr>\n",
              "      <th>335</th>\n",
              "      <td>Andhra Pradesh</td>\n",
              "      <td>2011</td>\n",
              "      <td>2154.0</td>\n",
              "    </tr>\n",
              "    <tr>\n",
              "      <th>349</th>\n",
              "      <td>Andhra Pradesh</td>\n",
              "      <td>2012</td>\n",
              "      <td>1870.0</td>\n",
              "    </tr>\n",
              "    <tr>\n",
              "      <th>363</th>\n",
              "      <td>Andhra Pradesh</td>\n",
              "      <td>2013</td>\n",
              "      <td>2119.0</td>\n",
              "    </tr>\n",
              "    <tr>\n",
              "      <th>377</th>\n",
              "      <td>Arunachal Pradesh</td>\n",
              "      <td>2001</td>\n",
              "      <td>83.0</td>\n",
              "    </tr>\n",
              "    <tr>\n",
              "      <th>391</th>\n",
              "      <td>Arunachal Pradesh</td>\n",
              "      <td>2002</td>\n",
              "      <td>57.0</td>\n",
              "    </tr>\n",
              "    <tr>\n",
              "      <th>405</th>\n",
              "      <td>Arunachal Pradesh</td>\n",
              "      <td>2003</td>\n",
              "      <td>68.0</td>\n",
              "    </tr>\n",
              "    <tr>\n",
              "      <th>419</th>\n",
              "      <td>Arunachal Pradesh</td>\n",
              "      <td>2004</td>\n",
              "      <td>65.0</td>\n",
              "    </tr>\n",
              "    <tr>\n",
              "      <th>...</th>\n",
              "      <td>...</td>\n",
              "      <td>...</td>\n",
              "      <td>...</td>\n",
              "    </tr>\n",
              "    <tr>\n",
              "      <th>5949</th>\n",
              "      <td>Uttar Pradesh</td>\n",
              "      <td>2010</td>\n",
              "      <td>6321.0</td>\n",
              "    </tr>\n",
              "    <tr>\n",
              "      <th>5963</th>\n",
              "      <td>Uttar Pradesh</td>\n",
              "      <td>2011</td>\n",
              "      <td>8500.0</td>\n",
              "    </tr>\n",
              "    <tr>\n",
              "      <th>5977</th>\n",
              "      <td>Uttar Pradesh</td>\n",
              "      <td>2012</td>\n",
              "      <td>8878.0</td>\n",
              "    </tr>\n",
              "    <tr>\n",
              "      <th>5991</th>\n",
              "      <td>Uttar Pradesh</td>\n",
              "      <td>2013</td>\n",
              "      <td>11183.0</td>\n",
              "    </tr>\n",
              "    <tr>\n",
              "      <th>6005</th>\n",
              "      <td>Uttarakhand</td>\n",
              "      <td>2001</td>\n",
              "      <td>183.0</td>\n",
              "    </tr>\n",
              "    <tr>\n",
              "      <th>6019</th>\n",
              "      <td>Uttarakhand</td>\n",
              "      <td>2002</td>\n",
              "      <td>198.0</td>\n",
              "    </tr>\n",
              "    <tr>\n",
              "      <th>6033</th>\n",
              "      <td>Uttarakhand</td>\n",
              "      <td>2003</td>\n",
              "      <td>171.0</td>\n",
              "    </tr>\n",
              "    <tr>\n",
              "      <th>6047</th>\n",
              "      <td>Uttarakhand</td>\n",
              "      <td>2004</td>\n",
              "      <td>213.0</td>\n",
              "    </tr>\n",
              "    <tr>\n",
              "      <th>6061</th>\n",
              "      <td>Uttarakhand</td>\n",
              "      <td>2005</td>\n",
              "      <td>203.0</td>\n",
              "    </tr>\n",
              "    <tr>\n",
              "      <th>6075</th>\n",
              "      <td>Uttarakhand</td>\n",
              "      <td>2006</td>\n",
              "      <td>212.0</td>\n",
              "    </tr>\n",
              "    <tr>\n",
              "      <th>6089</th>\n",
              "      <td>Uttarakhand</td>\n",
              "      <td>2007</td>\n",
              "      <td>253.0</td>\n",
              "    </tr>\n",
              "    <tr>\n",
              "      <th>6103</th>\n",
              "      <td>Uttarakhand</td>\n",
              "      <td>2008</td>\n",
              "      <td>247.0</td>\n",
              "    </tr>\n",
              "    <tr>\n",
              "      <th>6117</th>\n",
              "      <td>Uttarakhand</td>\n",
              "      <td>2009</td>\n",
              "      <td>275.0</td>\n",
              "    </tr>\n",
              "    <tr>\n",
              "      <th>6131</th>\n",
              "      <td>Uttarakhand</td>\n",
              "      <td>2010</td>\n",
              "      <td>286.0</td>\n",
              "    </tr>\n",
              "    <tr>\n",
              "      <th>6145</th>\n",
              "      <td>Uttarakhand</td>\n",
              "      <td>2011</td>\n",
              "      <td>314.0</td>\n",
              "    </tr>\n",
              "    <tr>\n",
              "      <th>6159</th>\n",
              "      <td>Uttarakhand</td>\n",
              "      <td>2012</td>\n",
              "      <td>297.0</td>\n",
              "    </tr>\n",
              "    <tr>\n",
              "      <th>6173</th>\n",
              "      <td>Uttarakhand</td>\n",
              "      <td>2013</td>\n",
              "      <td>1032.0</td>\n",
              "    </tr>\n",
              "    <tr>\n",
              "      <th>6187</th>\n",
              "      <td>West Bengal</td>\n",
              "      <td>2001</td>\n",
              "      <td>875.0</td>\n",
              "    </tr>\n",
              "    <tr>\n",
              "      <th>6201</th>\n",
              "      <td>West Bengal</td>\n",
              "      <td>2002</td>\n",
              "      <td>831.0</td>\n",
              "    </tr>\n",
              "    <tr>\n",
              "      <th>6215</th>\n",
              "      <td>West Bengal</td>\n",
              "      <td>2003</td>\n",
              "      <td>902.0</td>\n",
              "    </tr>\n",
              "    <tr>\n",
              "      <th>6229</th>\n",
              "      <td>West Bengal</td>\n",
              "      <td>2004</td>\n",
              "      <td>1200.0</td>\n",
              "    </tr>\n",
              "    <tr>\n",
              "      <th>6243</th>\n",
              "      <td>West Bengal</td>\n",
              "      <td>2005</td>\n",
              "      <td>1207.0</td>\n",
              "    </tr>\n",
              "    <tr>\n",
              "      <th>6257</th>\n",
              "      <td>West Bengal</td>\n",
              "      <td>2006</td>\n",
              "      <td>1355.0</td>\n",
              "    </tr>\n",
              "    <tr>\n",
              "      <th>6271</th>\n",
              "      <td>West Bengal</td>\n",
              "      <td>2007</td>\n",
              "      <td>1800.0</td>\n",
              "    </tr>\n",
              "    <tr>\n",
              "      <th>6285</th>\n",
              "      <td>West Bengal</td>\n",
              "      <td>2008</td>\n",
              "      <td>2332.0</td>\n",
              "    </tr>\n",
              "    <tr>\n",
              "      <th>6299</th>\n",
              "      <td>West Bengal</td>\n",
              "      <td>2009</td>\n",
              "      <td>2750.0</td>\n",
              "    </tr>\n",
              "    <tr>\n",
              "      <th>6313</th>\n",
              "      <td>West Bengal</td>\n",
              "      <td>2010</td>\n",
              "      <td>3345.0</td>\n",
              "    </tr>\n",
              "    <tr>\n",
              "      <th>6327</th>\n",
              "      <td>West Bengal</td>\n",
              "      <td>2011</td>\n",
              "      <td>4285.0</td>\n",
              "    </tr>\n",
              "    <tr>\n",
              "      <th>6341</th>\n",
              "      <td>West Bengal</td>\n",
              "      <td>2012</td>\n",
              "      <td>5117.0</td>\n",
              "    </tr>\n",
              "    <tr>\n",
              "      <th>6355</th>\n",
              "      <td>West Bengal</td>\n",
              "      <td>2013</td>\n",
              "      <td>4573.0</td>\n",
              "    </tr>\n",
              "  </tbody>\n",
              "</table>\n",
              "<p>454 rows × 3 columns</p>\n",
              "</div>"
            ],
            "text/plain": [
              "               STATE/UT  YEAR  Total No. of cases reported\n",
              "13          A&N Islands  2001                          2.0\n",
              "27          A&N Islands  2002                          2.0\n",
              "41          A&N Islands  2003                          2.0\n",
              "55          A&N Islands  2004                          3.0\n",
              "69          A&N Islands  2005                          2.0\n",
              "83          A&N Islands  2006                          5.0\n",
              "97          A&N Islands  2007                         12.0\n",
              "111         A&N Islands  2008                         17.0\n",
              "125         A&N Islands  2009                         16.0\n",
              "139         A&N Islands  2010                         10.0\n",
              "153         A&N Islands  2011                         15.0\n",
              "167         A&N Islands  2012                          8.0\n",
              "181         A&N Islands  2013                         14.0\n",
              "195      Andhra Pradesh  2001                       1182.0\n",
              "209      Andhra Pradesh  2002                       1302.0\n",
              "223      Andhra Pradesh  2003                       1485.0\n",
              "237      Andhra Pradesh  2004                       1526.0\n",
              "251      Andhra Pradesh  2005                       1612.0\n",
              "265      Andhra Pradesh  2006                       2030.0\n",
              "279      Andhra Pradesh  2007                       2097.0\n",
              "293      Andhra Pradesh  2008                       1970.0\n",
              "307      Andhra Pradesh  2009                       1958.0\n",
              "321      Andhra Pradesh  2010                       2053.0\n",
              "335      Andhra Pradesh  2011                       2154.0\n",
              "349      Andhra Pradesh  2012                       1870.0\n",
              "363      Andhra Pradesh  2013                       2119.0\n",
              "377   Arunachal Pradesh  2001                         83.0\n",
              "391   Arunachal Pradesh  2002                         57.0\n",
              "405   Arunachal Pradesh  2003                         68.0\n",
              "419   Arunachal Pradesh  2004                         65.0\n",
              "...                 ...   ...                          ...\n",
              "5949      Uttar Pradesh  2010                       6321.0\n",
              "5963      Uttar Pradesh  2011                       8500.0\n",
              "5977      Uttar Pradesh  2012                       8878.0\n",
              "5991      Uttar Pradesh  2013                      11183.0\n",
              "6005        Uttarakhand  2001                        183.0\n",
              "6019        Uttarakhand  2002                        198.0\n",
              "6033        Uttarakhand  2003                        171.0\n",
              "6047        Uttarakhand  2004                        213.0\n",
              "6061        Uttarakhand  2005                        203.0\n",
              "6075        Uttarakhand  2006                        212.0\n",
              "6089        Uttarakhand  2007                        253.0\n",
              "6103        Uttarakhand  2008                        247.0\n",
              "6117        Uttarakhand  2009                        275.0\n",
              "6131        Uttarakhand  2010                        286.0\n",
              "6145        Uttarakhand  2011                        314.0\n",
              "6159        Uttarakhand  2012                        297.0\n",
              "6173        Uttarakhand  2013                       1032.0\n",
              "6187        West Bengal  2001                        875.0\n",
              "6201        West Bengal  2002                        831.0\n",
              "6215        West Bengal  2003                        902.0\n",
              "6229        West Bengal  2004                       1200.0\n",
              "6243        West Bengal  2005                       1207.0\n",
              "6257        West Bengal  2006                       1355.0\n",
              "6271        West Bengal  2007                       1800.0\n",
              "6285        West Bengal  2008                       2332.0\n",
              "6299        West Bengal  2009                       2750.0\n",
              "6313        West Bengal  2010                       3345.0\n",
              "6327        West Bengal  2011                       4285.0\n",
              "6341        West Bengal  2012                       5117.0\n",
              "6355        West Bengal  2013                       4573.0\n",
              "\n",
              "[454 rows x 3 columns]"
            ]
          },
          "metadata": {
            "tags": []
          },
          "execution_count": 23
        }
      ]
    },
    {
      "cell_type": "code",
      "metadata": {
        "id": "H6oL-WGBARg9",
        "colab_type": "code",
        "colab": {
          "base_uri": "https://localhost:8080/",
          "height": 309
        },
        "outputId": "fb5d6109-fb0e-4ee5-b58b-f92b1754986f"
      },
      "source": [
        ""
      ],
      "execution_count": 28,
      "outputs": [
        {
          "output_type": "error",
          "ename": "ValueError",
          "evalue": "ignored",
          "traceback": [
            "\u001b[0;31m---------------------------------------------------------------------------\u001b[0m",
            "\u001b[0;31mValueError\u001b[0m                                Traceback (most recent call last)",
            "\u001b[0;32m<ipython-input-28-fe509b8ff847>\u001b[0m in \u001b[0;36m<module>\u001b[0;34m()\u001b[0m\n\u001b[0;32m----> 1\u001b[0;31m \u001b[0ma\u001b[0m\u001b[0;34m=\u001b[0m\u001b[0mle\u001b[0m\u001b[0;34m.\u001b[0m\u001b[0mfit_transform\u001b[0m\u001b[0;34m(\u001b[0m\u001b[0;34m\"Bihar\"\u001b[0m\u001b[0;34m)\u001b[0m\u001b[0;34m\u001b[0m\u001b[0;34m\u001b[0m\u001b[0m\n\u001b[0m",
            "\u001b[0;32m/usr/local/lib/python3.6/dist-packages/sklearn/preprocessing/label.py\u001b[0m in \u001b[0;36mfit_transform\u001b[0;34m(self, y)\u001b[0m\n\u001b[1;32m    233\u001b[0m         \u001b[0my\u001b[0m \u001b[0;34m:\u001b[0m \u001b[0marray\u001b[0m\u001b[0;34m-\u001b[0m\u001b[0mlike\u001b[0m \u001b[0mof\u001b[0m \u001b[0mshape\u001b[0m \u001b[0;34m[\u001b[0m\u001b[0mn_samples\u001b[0m\u001b[0;34m]\u001b[0m\u001b[0;34m\u001b[0m\u001b[0;34m\u001b[0m\u001b[0m\n\u001b[1;32m    234\u001b[0m         \"\"\"\n\u001b[0;32m--> 235\u001b[0;31m         \u001b[0my\u001b[0m \u001b[0;34m=\u001b[0m \u001b[0mcolumn_or_1d\u001b[0m\u001b[0;34m(\u001b[0m\u001b[0my\u001b[0m\u001b[0;34m,\u001b[0m \u001b[0mwarn\u001b[0m\u001b[0;34m=\u001b[0m\u001b[0;32mTrue\u001b[0m\u001b[0;34m)\u001b[0m\u001b[0;34m\u001b[0m\u001b[0;34m\u001b[0m\u001b[0m\n\u001b[0m\u001b[1;32m    236\u001b[0m         \u001b[0mself\u001b[0m\u001b[0;34m.\u001b[0m\u001b[0mclasses_\u001b[0m\u001b[0;34m,\u001b[0m \u001b[0my\u001b[0m \u001b[0;34m=\u001b[0m \u001b[0m_encode\u001b[0m\u001b[0;34m(\u001b[0m\u001b[0my\u001b[0m\u001b[0;34m,\u001b[0m \u001b[0mencode\u001b[0m\u001b[0;34m=\u001b[0m\u001b[0;32mTrue\u001b[0m\u001b[0;34m)\u001b[0m\u001b[0;34m\u001b[0m\u001b[0;34m\u001b[0m\u001b[0m\n\u001b[1;32m    237\u001b[0m         \u001b[0;32mreturn\u001b[0m \u001b[0my\u001b[0m\u001b[0;34m\u001b[0m\u001b[0;34m\u001b[0m\u001b[0m\n",
            "\u001b[0;32m/usr/local/lib/python3.6/dist-packages/sklearn/utils/validation.py\u001b[0m in \u001b[0;36mcolumn_or_1d\u001b[0;34m(y, warn)\u001b[0m\n\u001b[1;32m    758\u001b[0m         \u001b[0;32mreturn\u001b[0m \u001b[0mnp\u001b[0m\u001b[0;34m.\u001b[0m\u001b[0mravel\u001b[0m\u001b[0;34m(\u001b[0m\u001b[0my\u001b[0m\u001b[0;34m)\u001b[0m\u001b[0;34m\u001b[0m\u001b[0;34m\u001b[0m\u001b[0m\n\u001b[1;32m    759\u001b[0m \u001b[0;34m\u001b[0m\u001b[0m\n\u001b[0;32m--> 760\u001b[0;31m     \u001b[0;32mraise\u001b[0m \u001b[0mValueError\u001b[0m\u001b[0;34m(\u001b[0m\u001b[0;34m\"bad input shape {0}\"\u001b[0m\u001b[0;34m.\u001b[0m\u001b[0mformat\u001b[0m\u001b[0;34m(\u001b[0m\u001b[0mshape\u001b[0m\u001b[0;34m)\u001b[0m\u001b[0;34m)\u001b[0m\u001b[0;34m\u001b[0m\u001b[0;34m\u001b[0m\u001b[0m\n\u001b[0m\u001b[1;32m    761\u001b[0m \u001b[0;34m\u001b[0m\u001b[0m\n\u001b[1;32m    762\u001b[0m \u001b[0;34m\u001b[0m\u001b[0m\n",
            "\u001b[0;31mValueError\u001b[0m: bad input shape ()"
          ]
        }
      ]
    },
    {
      "cell_type": "code",
      "metadata": {
        "id": "_NXT_CFM4Wco",
        "colab_type": "code",
        "colab": {
          "base_uri": "https://localhost:8080/",
          "height": 34
        },
        "outputId": "7c208a79-9447-4ca1-9c16-65565d3ca135"
      },
      "source": [
        "from sklearn import preprocessing\n",
        "le = preprocessing.LabelEncoder()\n",
        "df1[\"STATE/UT\"]=le.fit_transform(df1[\"STATE/UT\"])\n",
        "\n",
        "x=df1.iloc[:,[0,1]]\n",
        "y=df1.iloc[:,2]\n",
        "\n",
        "from sklearn.model_selection import train_test_split\n",
        "xTrain, xTest, yTrain, yTest = train_test_split(x, y, test_size = 0.2, random_state = 0)\n",
        "\n",
        "from sklearn.linear_model import ElasticNet\n",
        "en=ElasticNet(alpha=0.1,l1_ratio=0.5)\n",
        "en.fit(xTrain,yTrain)\n",
        "ypred=en.predict(xTest)\n",
        "p=en.predict([[12,2013]])\n",
        "p"
      ],
      "execution_count": 30,
      "outputs": [
        {
          "output_type": "execute_result",
          "data": {
            "text/plain": [
              "array([1458.37660934])"
            ]
          },
          "metadata": {
            "tags": []
          },
          "execution_count": 30
        }
      ]
    },
    {
      "cell_type": "code",
      "metadata": {
        "id": "cGaxA3j4GXWl",
        "colab_type": "code",
        "colab": {
          "base_uri": "https://localhost:8080/",
          "height": 172
        },
        "outputId": "6e9f8a92-8eae-4ee9-ccb1-1e112f8d9bdc"
      },
      "source": [
        "x=fd.iloc[:,3]\n",
        "y=fd[\"TOTAL\"]\n",
        "\n",
        "x.fillna(0,inplace=True)\n",
        "y.fillna(0,inplace=True)\n",
        "from sklearn.model_selection import train_test_split\n",
        "xTrain, xTest, yTrain, yTest = train_test_split(x, y, test_size = 0.2, random_state = 0)        \n",
        "\n",
        "from sklearn.linear_model import LinearRegression\n",
        "from sklearn import metrics\n",
        "\n",
        "reg=LinearRegression()\n",
        "reg.fit(xTrain.values.reshape(-1,1),yTrain)\n",
        "ypred=reg.predict(xTest.values.reshape(-1,1))\n",
        "\n",
        "print(\"Enter the number of registered cases for which you want prediction of Total Police Personels\\n\")\n",
        "#a=int(input())\n",
        "print(\"The Predicted Total number of Police Personels is: {}\\n\".format(reg.predict([[1232]])))\n",
        "print(\"The Prediction has the following values of accuracy measures.\\n\")\n",
        "print('Mean Absolute Error:', metrics.mean_absolute_error(yTest, ypred))  \n",
        "print('Mean Squared Error:', metrics.mean_squared_error(yTest, ypred))  \n",
        "print('Root Mean Squared Error:', np.sqrt(metrics.mean_squared_error(yTest, ypred)))"
      ],
      "execution_count": 37,
      "outputs": [
        {
          "output_type": "stream",
          "text": [
            "Enter the number of registered cases for which you want prediction of Total Police Personels\n",
            "\n",
            "The Predicted Total number of Police Personels is: [64510.21295241]\n",
            "\n",
            "The Prediction has the following values of accuracy measures.\n",
            "\n",
            "Mean Absolute Error: 31877.887742906558\n",
            "Mean Squared Error: 1639288990.304561\n",
            "Root Mean Squared Error: 40488.13394446033\n"
          ],
          "name": "stdout"
        }
      ]
    },
    {
      "cell_type": "code",
      "metadata": {
        "id": "BoszEJHHJZeI",
        "colab_type": "code",
        "colab": {
          "base_uri": "https://localhost:8080/",
          "height": 189
        },
        "outputId": "754038d1-8390-4a35-ef52-9ecb92cbf252"
      },
      "source": [
        "fd.columns"
      ],
      "execution_count": 41,
      "outputs": [
        {
          "output_type": "execute_result",
          "data": {
            "text/plain": [
              "Index(['STATE/UT', 'YEAR', 'Pupose', 'Total No. of cases reported',\n",
              "       'Male upto 10 years', 'Female upto 10 years', 'Male 10-15 years',\n",
              "       'Female 10-15 years', 'Male 15-18 years', 'Female 15-18 years',\n",
              "       'Male 18-30 years', 'Female 18-30 years', 'Male 30-50 years',\n",
              "       'Female 30-50 years', 'Male above 50 years', 'Female above 50 years',\n",
              "       'Total Male', 'Total Female', 'Grand Total', 'DG/ ADG', 'IG', 'DIG',\n",
              "       'SSP/SP/ Ad.SP', 'ASP/ DySP', 'Insepctor', 'Sub Inspector',\n",
              "       'Asst. Sub Inspector', 'Head Constable', 'Below HC above Constable',\n",
              "       'Constables', 'TOTAL'],\n",
              "      dtype='object')"
            ]
          },
          "metadata": {
            "tags": []
          },
          "execution_count": 41
        }
      ]
    },
    {
      "cell_type": "code",
      "metadata": {
        "id": "x8AkoWfuJgYy",
        "colab_type": "code",
        "colab": {
          "base_uri": "https://localhost:8080/",
          "height": 86
        },
        "outputId": "4c412f9f-bebe-412b-c8d4-51f79d5c477c"
      },
      "source": [
        "x=fd.iloc[:,[-2,-3,-4,-5,-6,-7,-8,-9,-10,-11]]\n",
        "x.columns"
      ],
      "execution_count": 43,
      "outputs": [
        {
          "output_type": "execute_result",
          "data": {
            "text/plain": [
              "Index(['Constables', 'Below HC above Constable', 'Head Constable',\n",
              "       'Asst. Sub Inspector', 'Sub Inspector', 'Insepctor', 'ASP/ DySP',\n",
              "       'SSP/SP/ Ad.SP', 'DIG', 'IG'],\n",
              "      dtype='object')"
            ]
          },
          "metadata": {
            "tags": []
          },
          "execution_count": 43
        }
      ]
    },
    {
      "cell_type": "code",
      "metadata": {
        "id": "taEfMGGvtN6B",
        "colab_type": "code",
        "colab": {
          "base_uri": "https://localhost:8080/",
          "height": 165
        },
        "outputId": "53d7e6f2-8c47-4758-95cf-944ae15e7219"
      },
      "source": [
        "xt=pd.Dataframe([1,2,3,5,0,320,21000,232,5400,54443])"
      ],
      "execution_count": 50,
      "outputs": [
        {
          "output_type": "error",
          "ename": "AttributeError",
          "evalue": "ignored",
          "traceback": [
            "\u001b[0;31m---------------------------------------------------------------------------\u001b[0m",
            "\u001b[0;31mAttributeError\u001b[0m                            Traceback (most recent call last)",
            "\u001b[0;32m<ipython-input-50-8c953fe18ae9>\u001b[0m in \u001b[0;36m<module>\u001b[0;34m()\u001b[0m\n\u001b[0;32m----> 1\u001b[0;31m \u001b[0mxt\u001b[0m\u001b[0;34m=\u001b[0m\u001b[0mpd\u001b[0m\u001b[0;34m.\u001b[0m\u001b[0mDataframe\u001b[0m\u001b[0;34m(\u001b[0m\u001b[0;34m[\u001b[0m\u001b[0;36m1\u001b[0m\u001b[0;34m,\u001b[0m\u001b[0;36m2\u001b[0m\u001b[0;34m,\u001b[0m\u001b[0;36m3\u001b[0m\u001b[0;34m,\u001b[0m\u001b[0;36m5\u001b[0m\u001b[0;34m,\u001b[0m\u001b[0;36m0\u001b[0m\u001b[0;34m,\u001b[0m\u001b[0;36m320\u001b[0m\u001b[0;34m,\u001b[0m\u001b[0;36m21000\u001b[0m\u001b[0;34m,\u001b[0m\u001b[0;36m232\u001b[0m\u001b[0;34m,\u001b[0m\u001b[0;36m5400\u001b[0m\u001b[0;34m,\u001b[0m\u001b[0;36m54443\u001b[0m\u001b[0;34m]\u001b[0m\u001b[0;34m)\u001b[0m\u001b[0;34m\u001b[0m\u001b[0;34m\u001b[0m\u001b[0m\n\u001b[0m",
            "\u001b[0;31mAttributeError\u001b[0m: module 'pandas' has no attribute 'Dataframe'"
          ]
        }
      ]
    },
    {
      "cell_type": "code",
      "metadata": {
        "id": "KyF5QWWuKOxz",
        "colab_type": "code",
        "colab": {
          "base_uri": "https://localhost:8080/",
          "height": 464
        },
        "outputId": "8ace8ab6-893e-4067-f2e5-74ee95908a82"
      },
      "source": [
        "x=fd.iloc[:,[-2,-3,-4,-5,-6,-7,-8,-9,-10,-11]]\n",
        "y=fd[\"Total No. of cases reported\"]\n",
        "\n",
        "x.fillna(0,inplace=True)\n",
        "y.fillna(0,inplace=True)\n",
        "\n",
        "from sklearn.model_selection import train_test_split\n",
        "xTrain, xTest, yTrain, yTest = train_test_split(x, y, test_size = 0.2, random_state = 0) \n",
        "\n",
        "from sklearn.preprocessing import PolynomialFeatures\n",
        "from sklearn.linear_model import LinearRegression\n",
        "from sklearn.metrics import mean_squared_error, r2_score\n",
        "\n",
        "polynomial_features= PolynomialFeatures(degree=2)\n",
        "x_poly = polynomial_features.fit_transform(x)\n",
        "\n",
        "model = LinearRegression()\n",
        "model.fit(x_poly, y)\n",
        "ypred = model.predict(x_poly)\n",
        "ypred\n",
        "# rmse = np.sqrt(mean_squared_error(y,ypred))\n",
        "# r2 = r2_score(y,ypred)\n",
        "# print(rmse)\n",
        "# print(r2)"
      ],
      "execution_count": 49,
      "outputs": [
        {
          "output_type": "stream",
          "text": [
            "/usr/local/lib/python3.6/dist-packages/pandas/core/frame.py:4034: SettingWithCopyWarning: \n",
            "A value is trying to be set on a copy of a slice from a DataFrame\n",
            "\n",
            "See the caveats in the documentation: http://pandas.pydata.org/pandas-docs/stable/indexing.html#indexing-view-versus-copy\n",
            "  downcast=downcast, **kwargs)\n"
          ],
          "name": "stderr"
        },
        {
          "output_type": "error",
          "ename": "ValueError",
          "evalue": "ignored",
          "traceback": [
            "\u001b[0;31m---------------------------------------------------------------------------\u001b[0m",
            "\u001b[0;31mValueError\u001b[0m                                Traceback (most recent call last)",
            "\u001b[0;32m<ipython-input-49-a31e77600b72>\u001b[0m in \u001b[0;36m<module>\u001b[0;34m()\u001b[0m\n\u001b[1;32m     17\u001b[0m \u001b[0mmodel\u001b[0m \u001b[0;34m=\u001b[0m \u001b[0mLinearRegression\u001b[0m\u001b[0;34m(\u001b[0m\u001b[0;34m)\u001b[0m\u001b[0;34m\u001b[0m\u001b[0;34m\u001b[0m\u001b[0m\n\u001b[1;32m     18\u001b[0m \u001b[0mmodel\u001b[0m\u001b[0;34m.\u001b[0m\u001b[0mfit\u001b[0m\u001b[0;34m(\u001b[0m\u001b[0mx_poly\u001b[0m\u001b[0;34m,\u001b[0m \u001b[0my\u001b[0m\u001b[0;34m)\u001b[0m\u001b[0;34m\u001b[0m\u001b[0;34m\u001b[0m\u001b[0m\n\u001b[0;32m---> 19\u001b[0;31m \u001b[0mypred\u001b[0m \u001b[0;34m=\u001b[0m \u001b[0mmodel\u001b[0m\u001b[0;34m.\u001b[0m\u001b[0mpredict\u001b[0m\u001b[0;34m(\u001b[0m\u001b[0;34m[\u001b[0m\u001b[0;34m[\u001b[0m\u001b[0;36m1\u001b[0m\u001b[0;34m,\u001b[0m\u001b[0;36m2\u001b[0m\u001b[0;34m,\u001b[0m\u001b[0;36m3\u001b[0m\u001b[0;34m,\u001b[0m\u001b[0;36m4\u001b[0m\u001b[0;34m,\u001b[0m\u001b[0;36m5\u001b[0m\u001b[0;34m,\u001b[0m\u001b[0;36m60\u001b[0m\u001b[0;34m,\u001b[0m\u001b[0;36m1200\u001b[0m\u001b[0;34m,\u001b[0m\u001b[0;36m345\u001b[0m\u001b[0;34m,\u001b[0m\u001b[0;36m60000\u001b[0m\u001b[0;34m,\u001b[0m\u001b[0;36m72000\u001b[0m\u001b[0;34m]\u001b[0m\u001b[0;34m]\u001b[0m\u001b[0;34m)\u001b[0m\u001b[0;34m\u001b[0m\u001b[0;34m\u001b[0m\u001b[0m\n\u001b[0m\u001b[1;32m     20\u001b[0m \u001b[0mypred\u001b[0m\u001b[0;34m\u001b[0m\u001b[0;34m\u001b[0m\u001b[0m\n\u001b[1;32m     21\u001b[0m \u001b[0;31m# rmse = np.sqrt(mean_squared_error(y,ypred))\u001b[0m\u001b[0;34m\u001b[0m\u001b[0;34m\u001b[0m\u001b[0;34m\u001b[0m\u001b[0m\n",
            "\u001b[0;32m/usr/local/lib/python3.6/dist-packages/sklearn/linear_model/base.py\u001b[0m in \u001b[0;36mpredict\u001b[0;34m(self, X)\u001b[0m\n\u001b[1;32m    219\u001b[0m             \u001b[0mReturns\u001b[0m \u001b[0mpredicted\u001b[0m \u001b[0mvalues\u001b[0m\u001b[0;34m.\u001b[0m\u001b[0;34m\u001b[0m\u001b[0;34m\u001b[0m\u001b[0m\n\u001b[1;32m    220\u001b[0m         \"\"\"\n\u001b[0;32m--> 221\u001b[0;31m         \u001b[0;32mreturn\u001b[0m \u001b[0mself\u001b[0m\u001b[0;34m.\u001b[0m\u001b[0m_decision_function\u001b[0m\u001b[0;34m(\u001b[0m\u001b[0mX\u001b[0m\u001b[0;34m)\u001b[0m\u001b[0;34m\u001b[0m\u001b[0;34m\u001b[0m\u001b[0m\n\u001b[0m\u001b[1;32m    222\u001b[0m \u001b[0;34m\u001b[0m\u001b[0m\n\u001b[1;32m    223\u001b[0m     \u001b[0m_preprocess_data\u001b[0m \u001b[0;34m=\u001b[0m \u001b[0mstaticmethod\u001b[0m\u001b[0;34m(\u001b[0m\u001b[0m_preprocess_data\u001b[0m\u001b[0;34m)\u001b[0m\u001b[0;34m\u001b[0m\u001b[0;34m\u001b[0m\u001b[0m\n",
            "\u001b[0;32m/usr/local/lib/python3.6/dist-packages/sklearn/linear_model/base.py\u001b[0m in \u001b[0;36m_decision_function\u001b[0;34m(self, X)\u001b[0m\n\u001b[1;32m    204\u001b[0m         \u001b[0mX\u001b[0m \u001b[0;34m=\u001b[0m \u001b[0mcheck_array\u001b[0m\u001b[0;34m(\u001b[0m\u001b[0mX\u001b[0m\u001b[0;34m,\u001b[0m \u001b[0maccept_sparse\u001b[0m\u001b[0;34m=\u001b[0m\u001b[0;34m[\u001b[0m\u001b[0;34m'csr'\u001b[0m\u001b[0;34m,\u001b[0m \u001b[0;34m'csc'\u001b[0m\u001b[0;34m,\u001b[0m \u001b[0;34m'coo'\u001b[0m\u001b[0;34m]\u001b[0m\u001b[0;34m)\u001b[0m\u001b[0;34m\u001b[0m\u001b[0;34m\u001b[0m\u001b[0m\n\u001b[1;32m    205\u001b[0m         return safe_sparse_dot(X, self.coef_.T,\n\u001b[0;32m--> 206\u001b[0;31m                                dense_output=True) + self.intercept_\n\u001b[0m\u001b[1;32m    207\u001b[0m \u001b[0;34m\u001b[0m\u001b[0m\n\u001b[1;32m    208\u001b[0m     \u001b[0;32mdef\u001b[0m \u001b[0mpredict\u001b[0m\u001b[0;34m(\u001b[0m\u001b[0mself\u001b[0m\u001b[0;34m,\u001b[0m \u001b[0mX\u001b[0m\u001b[0;34m)\u001b[0m\u001b[0;34m:\u001b[0m\u001b[0;34m\u001b[0m\u001b[0;34m\u001b[0m\u001b[0m\n",
            "\u001b[0;32m/usr/local/lib/python3.6/dist-packages/sklearn/utils/extmath.py\u001b[0m in \u001b[0;36msafe_sparse_dot\u001b[0;34m(a, b, dense_output)\u001b[0m\n\u001b[1;32m    140\u001b[0m         \u001b[0;32mreturn\u001b[0m \u001b[0mret\u001b[0m\u001b[0;34m\u001b[0m\u001b[0;34m\u001b[0m\u001b[0m\n\u001b[1;32m    141\u001b[0m     \u001b[0;32melse\u001b[0m\u001b[0;34m:\u001b[0m\u001b[0;34m\u001b[0m\u001b[0;34m\u001b[0m\u001b[0m\n\u001b[0;32m--> 142\u001b[0;31m         \u001b[0;32mreturn\u001b[0m \u001b[0mnp\u001b[0m\u001b[0;34m.\u001b[0m\u001b[0mdot\u001b[0m\u001b[0;34m(\u001b[0m\u001b[0ma\u001b[0m\u001b[0;34m,\u001b[0m \u001b[0mb\u001b[0m\u001b[0;34m)\u001b[0m\u001b[0;34m\u001b[0m\u001b[0;34m\u001b[0m\u001b[0m\n\u001b[0m\u001b[1;32m    143\u001b[0m \u001b[0;34m\u001b[0m\u001b[0m\n\u001b[1;32m    144\u001b[0m \u001b[0;34m\u001b[0m\u001b[0m\n",
            "\u001b[0;31mValueError\u001b[0m: shapes (1,10) and (66,) not aligned: 10 (dim 1) != 66 (dim 0)"
          ]
        }
      ]
    },
    {
      "cell_type": "code",
      "metadata": {
        "id": "pqRTATb5LrbR",
        "colab_type": "code",
        "colab": {
          "base_uri": "https://localhost:8080/",
          "height": 241
        },
        "outputId": "d332bff1-8841-4746-dc19-edc2ae6c7833"
      },
      "source": [
        "x_poly"
      ],
      "execution_count": 47,
      "outputs": [
        {
          "output_type": "execute_result",
          "data": {
            "text/plain": [
              "array([[1.0000e+00, 1.9760e+03, 0.0000e+00, ..., 4.0000e+00, 2.0000e+00,\n",
              "        1.0000e+00],\n",
              "       [1.0000e+00, 1.9760e+03, 0.0000e+00, ..., 4.0000e+00, 2.0000e+00,\n",
              "        1.0000e+00],\n",
              "       [1.0000e+00, 1.9760e+03, 0.0000e+00, ..., 4.0000e+00, 2.0000e+00,\n",
              "        1.0000e+00],\n",
              "       ...,\n",
              "       [1.0000e+00, 7.0043e+04, 0.0000e+00, ..., 8.4100e+02, 7.5400e+02,\n",
              "        6.7600e+02],\n",
              "       [1.0000e+00, 7.0043e+04, 0.0000e+00, ..., 8.4100e+02, 7.5400e+02,\n",
              "        6.7600e+02],\n",
              "       [1.0000e+00, 1.7400e+02, 0.0000e+00, ..., 0.0000e+00, 0.0000e+00,\n",
              "        0.0000e+00]])"
            ]
          },
          "metadata": {
            "tags": []
          },
          "execution_count": 47
        }
      ]
    }
  ]
}